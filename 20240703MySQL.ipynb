{
 "cells": [
  {
   "cell_type": "code",
   "execution_count": 1,
   "id": "cde32022-e3b2-4524-bae1-c8b685524d9d",
   "metadata": {},
   "outputs": [],
   "source": [
    "import mysql.connector\n",
    "import pandas as pd"
   ]
  },
  {
   "cell_type": "code",
   "execution_count": 2,
   "id": "91aaac9d-9455-485c-a176-cca5e7d0bc01",
   "metadata": {},
   "outputs": [],
   "source": [
    "conn = mysql.connector.connect(\n",
    "    host='localhost',  \n",
    "    port=3306,\n",
    "    user='root',\n",
    "    password='2024NN' \n",
    ")\n",
    "\n",
    "cursor = conn.cursor()\n",
    "\n",
    "\n",
    "cursor.execute(\"DROP DATABASE IF EXISTS 20240703MySQL\")\n",
    "cursor.execute(\"CREATE DATABASE IF NOT EXISTS 20240703MySQL\")\n",
    "\n",
    "#DROP TABLE IF EXISTS retour_clients\n",
    "    "
   ]
  },
  {
   "cell_type": "code",
   "execution_count": 3,
   "id": "4a9961e3-39f9-4534-bfec-1b5e962f46f4",
   "metadata": {},
   "outputs": [
    {
     "data": {
      "text/plain": [
       "True"
      ]
     },
     "execution_count": 3,
     "metadata": {},
     "output_type": "execute_result"
    }
   ],
   "source": [
    "cursor = conn.cursor()\n",
    "\n",
    "cursor.execute(\"USE 20240703MySQL\")\n",
    "create_table_query = \"\"\"\n",
    "    CREATE TABLE IF NOT EXISTS magasin (\n",
    "    ref_magasin INT  PRIMARY KEY,\n",
    "    departement INT,\n",
    "    departement_commune INT,\n",
    "    libelle_de_commune VARCHAR(255),\n",
    "    population int,\n",
    "    longitude REAL,\n",
    "    latitude REAL\n",
    "    )\n",
    "    \"\"\"\n",
    "cursor.execute(create_table_query)\n",
    "conn.commit()\n",
    "cursor.close()\n",
    "#DROP TABLE IF EXISTS magasins"
   ]
  },
  {
   "cell_type": "code",
   "execution_count": 4,
   "id": "805b82b2-bc31-496e-8e93-5c6496857f6d",
   "metadata": {},
   "outputs": [
    {
     "data": {
      "text/plain": [
       "True"
      ]
     },
     "execution_count": 4,
     "metadata": {},
     "output_type": "execute_result"
    }
   ],
   "source": [
    "cursor = conn.cursor()\n",
    "\n",
    "cursor.execute(\"USE 20240703MySQL\")\n",
    "create_table_query = \"\"\"\n",
    "    CREATE TABLE IF NOT EXISTS produit (\n",
    "    cle_produit INT PRIMARY KEY,\n",
    "    typologie_produit VARCHAR(255),\n",
    "    titre_produit VARCHAR(255)\n",
    "    )\n",
    "    \"\"\"\n",
    "cursor.execute(create_table_query)\n",
    "conn.commit()\n",
    "cursor.close()\n",
    "#DROP TABLE IF EXISTS produit"
   ]
  },
  {
   "cell_type": "code",
   "execution_count": 5,
   "id": "a50ee596-0d83-4b47-a8ba-8e4e723d481b",
   "metadata": {},
   "outputs": [
    {
     "data": {
      "text/plain": [
       "True"
      ]
     },
     "execution_count": 5,
     "metadata": {},
     "output_type": "execute_result"
    }
   ],
   "source": [
    "cursor = conn.cursor()\n",
    "cursor.execute(\"USE 20240703MySQL\")\n",
    "\n",
    "\n",
    "create_table_query = \"\"\"\n",
    "    CREATE TABLE IF NOT EXISTS retour_clients (\n",
    "    cle_retour_client INT PRIMARY KEY,\n",
    "    note INT,\n",
    "    cle_produit INT,\n",
    "    ref_magasin INT,\n",
    "    date_achat DATE,\n",
    "    libelle_source VARCHAR(255),\n",
    "    libelle_categorie VARCHAR(255),\n",
    "    recommandation VARCHAR(255),\n",
    "    \n",
    "    CONSTRAINT retour_client_produit_FK FOREIGN KEY (cle_produit) REFERENCES produit(cle_produit),\n",
    "    CONSTRAINT retour_client_magasin_FK FOREIGN KEY (ref_magasin) REFERENCES magasin(ref_magasin)\n",
    ")\n",
    "\"\"\"\n",
    "cursor.execute(create_table_query)\n",
    "\n",
    "conn.commit()\n",
    "cursor.close()"
   ]
  },
  {
   "cell_type": "code",
   "execution_count": 6,
   "id": "36c2ee3c-0f28-4829-a90f-523872bfa596",
   "metadata": {},
   "outputs": [],
   "source": [
    "#cursor = conn.cursor()\n",
    "#file_path = \"C:\\Users\\NN\\20240703\\Brief_Satisfaction_Clients\\data\\retour_clients.csv\"\n",
    "#data = pd.read_csv(file_path)\n",
    "#\n",
    "#\n",
    "#for _, row in df.iterrows():\n",
    "#    insert_query = \"\"\"\n",
    "#    INSERT INTO retour_clients (cle_retour_client, note, cle_produit, ref_magasin, date_achat, libelle_source, libelle_categorie, recommandation)\n",
    "#    VALUES (%s, %s, %s, %s, %s, %s, %s, %s)\n",
    "#    \"\"\"\n",
    "#    cursor.execute(insert_query, tuple(row))\n",
    "#\n",
    "#conn.commit()\n",
    "#cursor.close()\n",
    "#conn.close()"
   ]
  },
  {
   "cell_type": "code",
   "execution_count": 7,
   "id": "c7041c3b-b008-49c7-a1dd-7a8b2b8aef66",
   "metadata": {},
   "outputs": [],
   "source": [
    "#file_path = r\"C:\\Users\\NN\\20240703\\Brief_Satisfaction_Clients\\data\\retour_clients.csv\"\n",
    "#data = pd.read_csv(\"retour_clients.csv\",sep=';',encoding='Latin-1')\n",
    "#\n",
    "#data.to_sql(name='retour_clients', con=conn, index=False, if_exists='replace')\n"
   ]
  }
 ],
 "metadata": {
  "kernelspec": {
   "display_name": "Python 3 (ipykernel)",
   "language": "python",
   "name": "python3"
  },
  "language_info": {
   "codemirror_mode": {
    "name": "ipython",
    "version": 3
   },
   "file_extension": ".py",
   "mimetype": "text/x-python",
   "name": "python",
   "nbconvert_exporter": "python",
   "pygments_lexer": "ipython3",
   "version": "3.12.3"
  }
 },
 "nbformat": 4,
 "nbformat_minor": 5
}
